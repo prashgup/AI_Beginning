{
  "cells": [
    {
      "cell_type": "markdown",
      "id": "fe523821",
      "metadata": {
        "id": "fe523821"
      },
      "source": [
        "\n",
        "# Project 1: Build an LLM Playground\n",
        "\n",
        "Welcome! In this project, you’ll learn foundations of large language models (LLMs). We’ll keep the code minimal and the explanations high‑level so that anyone who can run a Python cell can follow along.  \n",
        "\n",
        "We'll be using Google Colab for this project. Colab is a free, browser-based platform that lets you run Python code and machine learning models without installing anything on your local computer. Click the button below to open this notebook directly in Google Colab and get started!\n"
      ]
    },
    {
      "cell_type": "markdown",
      "id": "fdb8584e",
      "metadata": {
        "id": "fdb8584e"
      },
      "source": [
        "[![Open In Colab](https://colab.research.google.com/assets/colab-badge.svg)](https://colab.research.google.com/github/prashgup/AI_Beginning/blob/main/Week_1/lm_playground.ipynb)"
      ]
    },
    {
      "cell_type": "markdown",
      "id": "08e82492",
      "metadata": {
        "id": "08e82492"
      },
      "source": [
        "---\n",
        "## Learning Objectives  \n",
        "* **Tokenization** and how raw text is tokenized into a sequene of discrete tokens\n",
        "* Inspect **GPT2** and **Transformer architecture**\n",
        "* Loading pre-trained LLMs using **Hugging Face**\n",
        "* **Decoding strategies** to generate text from LLMs\n",
        "* Completion versus **intrusction fine-tuned** LLMs\n",
        "\n",
        "\n",
        "Let's get started!"
      ]
    },
    {
      "cell_type": "code",
      "execution_count": null,
      "id": "1235110e",
      "metadata": {
        "colab": {
          "base_uri": "https://localhost:8080/"
        },
        "id": "1235110e",
        "outputId": "e8808fb0-5544-4ba7-a202-19a9dea2d82a"
      },
      "outputs": [
        {
          "output_type": "stream",
          "name": "stdout",
          "text": [
            "torch 2.8.0+cu126 | transformers 4.56.2 | tiktoken 0.11.0\n"
          ]
        }
      ],
      "source": [
        "import torch, transformers, tiktoken\n",
        "print(\"torch\", torch.__version__, \"| transformers\", transformers.__version__, \"| tiktoken\", tiktoken.__version__)"
      ]
    },
    {
      "cell_type": "markdown",
      "id": "d4c1eb0b",
      "metadata": {
        "id": "d4c1eb0b"
      },
      "source": [
        "# 1 - Tokenization\n",
        "\n",
        "A neural network can’t digest raw text. They need **numbers**. Tokenization is the process of converting text into IDs. In this section, you'll learn how tokenization is implemented in practice.\n",
        "\n",
        "Tokenization methods generally fall into three categories:\n",
        "1. Word-level\n",
        "2. Character-level\n",
        "3. Subword-level"
      ]
    },
    {
      "cell_type": "markdown",
      "id": "1d234dc0",
      "metadata": {
        "id": "1d234dc0"
      },
      "source": [
        "### 1.1 - Word‑level tokenization\n",
        "\n",
        "Split text on whitespace and store each **word** as a token."
      ]
    },
    {
      "cell_type": "code",
      "execution_count": 28,
      "id": "d784a288",
      "metadata": {
        "id": "d784a288",
        "outputId": "08561ed3-82ae-4373-9365-a665a16d4d08",
        "colab": {
          "base_uri": "https://localhost:8080/"
        }
      },
      "outputs": [
        {
          "output_type": "stream",
          "name": "stdout",
          "text": [
            "Vocabulary size: 22 words\n",
            "First 15 vocab entries: ['[PAD]', '[UNK]', 'Large', 'The', 'Tokenization', 'brown', 'converts', 'dog', 'fox', 'jumps', 'language', 'lazy', 'models', 'next', 'numbers']\n",
            "{'[PAD]': 0, '[UNK]': 1, 'Large': 2, 'The': 3, 'Tokenization': 4, 'brown': 5, 'converts': 6, 'dog': 7, 'fox': 8, 'jumps': 9, 'language': 10, 'lazy': 11, 'models': 12, 'next': 13, 'numbers': 14, 'over': 15, 'predict': 16, 'quick': 17, 'text': 18, 'the': 19, 'to': 20, 'token': 21}\n",
            "{0: '[PAD]', 1: '[UNK]', 2: 'Large', 3: 'The', 4: 'Tokenization', 5: 'brown', 6: 'converts', 7: 'dog', 8: 'fox', 9: 'jumps', 10: 'language', 11: 'lazy', 12: 'models', 13: 'next', 14: 'numbers', 15: 'over', 16: 'predict', 17: 'quick', 18: 'text', 19: 'the', 20: 'to', 21: 'token'}\n",
            "\n",
            "Input text : The brown unicorn jumps\n",
            "Token IDs  : [3, 5, '[UNK]', 9]\n",
            "Decoded    : ['The', 'brown', '[UNK]', 'jumps']\n"
          ]
        }
      ],
      "source": [
        "# 1. Tiny corpus\n",
        "corpus = [\n",
        "    \"The quick brown fox jumps over the lazy dog\",\n",
        "    \"Tokenization converts text to numbers\",\n",
        "    \"Large language models predict the next token\"\n",
        "]\n",
        "\n",
        "# 2. Build the vocabulary\n",
        "PAD, UNK = \"[PAD]\", \"[UNK]\"\n",
        "tokens = []\n",
        "for sentence in corpus:\n",
        "  words = sentence.split() # default whitespace tokenizer\n",
        "  tokens.extend(words)     # add words to the list\n",
        "\n",
        "# find unique and sorted words\n",
        "vocab = [PAD, UNK] + sorted(set(tokens))\n",
        "\n",
        "word2id = {word: idx for idx, word in enumerate(vocab)}\n",
        "id2word = {idx: word for idx, word in enumerate(vocab)}\n",
        "\n",
        "print(f\"Vocabulary size: {len(vocab)} words\")\n",
        "print(\"First 15 vocab entries:\", vocab[:15])\n",
        "print(word2id)\n",
        "print(id2word)\n",
        "\n",
        "# 3. Encode / decode\n",
        "def encode(text):\n",
        "    tokens = text.split()\n",
        "    tokenids = [ word2id.get(token, UNK) for token in tokens]\n",
        "    return tokenids\n",
        "\n",
        "def decode(ids):\n",
        "    ## Approach 1\n",
        "    # tokens = [ id2word.get(tokenid, UNK) for tokenid in ids]\n",
        "    # return tokens\n",
        "\n",
        "    # Approach 2\n",
        "    tokens = []\n",
        "    for tokenid in ids:\n",
        "      tokens.append(id2word.get(tokenid, UNK))\n",
        "    return tokens\n",
        "\n",
        "    ## Approach 3\n",
        "    # return [ id2word.get(tokenid, UNK) for tokenid in ids]\n",
        "\n",
        "\n",
        "# 4. Demo\n",
        "sample = \"The brown unicorn jumps\"\n",
        "ids = encode(sample)\n",
        "recovered = decode(ids)\n",
        "\n",
        "print(\"\\nInput text :\", sample)\n",
        "print(\"Token IDs  :\", ids)\n",
        "print(\"Decoded    :\", recovered)"
      ]
    },
    {
      "cell_type": "markdown",
      "id": "0edab2c2",
      "metadata": {
        "id": "0edab2c2"
      },
      "source": [
        "Word-level tokenization has two major limitations:\n",
        "1. Large vocabulary size\n",
        "2. Out-of-vocabulary (OOV) issue"
      ]
    },
    {
      "cell_type": "markdown",
      "id": "a379bac7",
      "metadata": {
        "id": "a379bac7"
      },
      "source": [
        "### 1.2 - Character‑level tokenization\n",
        "\n",
        "Every single character (including spaces and emojis) gets its own ID. This guarantees zero out‑of‑vocabulary issues but very long sequences."
      ]
    },
    {
      "cell_type": "code",
      "execution_count": 29,
      "id": "4ac29144",
      "metadata": {
        "id": "4ac29144",
        "outputId": "81153269-1a81-4040-bc45-055c089b7755",
        "colab": {
          "base_uri": "https://localhost:8080/"
        }
      },
      "outputs": [
        {
          "output_type": "stream",
          "name": "stdout",
          "text": [
            "['a', 'b', 'c', 'd', 'e', 'f', 'g', 'h', 'i', 'j', 'k', 'l', 'm', 'n', 'o', 'p', 'q', 'r', 's', 't', 'u', 'v', 'w', 'x', 'y', 'z', 'A', 'B', 'C', 'D', 'E', 'F', 'G', 'H', 'I', 'J', 'K', 'L', 'M', 'N', 'O', 'P', 'Q', 'R', 'S', 'T', 'U', 'V', 'W', 'X', 'Y', 'Z', '_', '#']\n",
            "{'a': 0, 'b': 1, 'c': 2, 'd': 3, 'e': 4, 'f': 5, 'g': 6, 'h': 7, 'i': 8, 'j': 9, 'k': 10, 'l': 11, 'm': 12, 'n': 13, 'o': 14, 'p': 15, 'q': 16, 'r': 17, 's': 18, 't': 19, 'u': 20, 'v': 21, 'w': 22, 'x': 23, 'y': 24, 'z': 25, 'A': 26, 'B': 27, 'C': 28, 'D': 29, 'E': 30, 'F': 31, 'G': 32, 'H': 33, 'I': 34, 'J': 35, 'K': 36, 'L': 37, 'M': 38, 'N': 39, 'O': 40, 'P': 41, 'Q': 42, 'R': 43, 'S': 44, 'T': 45, 'U': 46, 'V': 47, 'W': 48, 'X': 49, 'Y': 50, 'Z': 51, '_': 52, '#': 53}\n",
            "{0: 'a', 1: 'b', 2: 'c', 3: 'd', 4: 'e', 5: 'f', 6: 'g', 7: 'h', 8: 'i', 9: 'j', 10: 'k', 11: 'l', 12: 'm', 13: 'n', 14: 'o', 15: 'p', 16: 'q', 17: 'r', 18: 's', 19: 't', 20: 'u', 21: 'v', 22: 'w', 23: 'x', 24: 'y', 25: 'z', 26: 'A', 27: 'B', 28: 'C', 29: 'D', 30: 'E', 31: 'F', 32: 'G', 33: 'H', 34: 'I', 35: 'J', 36: 'K', 37: 'L', 38: 'M', 39: 'N', 40: 'O', 41: 'P', 42: 'Q', 43: 'R', 44: 'S', 45: 'T', 46: 'U', 47: 'V', 48: 'W', 49: 'X', 50: 'Y', 51: 'Z', 52: '_', 53: '#'}\n",
            "Vocabulary size: 54 (52 letters + 2 specials)\n",
            "\n",
            "Input text : Hello\n",
            "Token IDs  : [33, 4, 11, 11, 14]\n",
            "Decoded    : ['H', 'e', 'l', 'l', 'o']\n"
          ]
        }
      ],
      "source": [
        "# 1. Build a fixed vocabulary # a–z + A–Z + padding + unkwown\n",
        "import string\n",
        "\n",
        "vocab = list(string.ascii_lowercase + string.ascii_uppercase + '_' + \"#\")\n",
        "char2id = {c:id for id, c in enumerate(vocab)}\n",
        "id2char = {id:c for id, c in enumerate(vocab)}\n",
        "\n",
        "print(vocab)\n",
        "print(char2id)\n",
        "print(id2char)\n",
        "\n",
        "print(f\"Vocabulary size: {len(vocab)} (52 letters + 2 specials)\")\n",
        "\n",
        "# 2. Encode / decode\n",
        "def encode(text):\n",
        "    return [ char2id.get(c, '_') for c in text]\n",
        "\n",
        "def decode(ids):\n",
        "    return [ id2char.get(id, \"_\") for id in ids]\n",
        "\n",
        "# 3. Demo\n",
        "sample = \"Hello\"\n",
        "ids = encode(sample)\n",
        "recovered = decode(ids)\n",
        "\n",
        "print(\"\\nInput text :\", sample)\n",
        "print(\"Token IDs  :\", ids)\n",
        "print(\"Decoded    :\", recovered)\n"
      ]
    },
    {
      "cell_type": "markdown",
      "id": "391275bd",
      "metadata": {
        "id": "391275bd"
      },
      "source": [
        "### 1.3 - Subword‑level tokenization\n",
        "\n",
        "Sub-word methods such as `Byte-Pair Encoding (BPE)`, `WordPiece`, and `SentencePiece` **learn** the most common character and gorup them into new tokens. For example, the word `unbelievable` might turn into three tokens: `[\"un\", \"believ\", \"able\"]`. This approach strikes a balance between word-level and character-level methods and fix their limitations.\n",
        "\n",
        "For example, `BPE` algorithm forms the vocabulary using the following steps:\n",
        "1. **Start with bytes** → every character is its own token.  \n",
        "2. **Count all adjacent pairs** in a huge corpus.  \n",
        "3. **Merge the most frequent pair** into a new token.  \n",
        "   *Repeat steps 2-3* until you hit the target vocab size (e.g., 50 k).\n",
        "\n",
        "Let's see `BPE` in practice."
      ]
    },
    {
      "cell_type": "code",
      "execution_count": 30,
      "id": "4675e67a",
      "metadata": {
        "id": "4675e67a",
        "outputId": "746bd752-b81b-4315-c234-0a90cdc0dccd",
        "colab": {
          "base_uri": "https://localhost:8080/"
        }
      },
      "outputs": [
        {
          "output_type": "stream",
          "name": "stdout",
          "text": [
            "\n",
            "Input text : Unbelievable tokenization powers! 🚀\n",
            "Token IDs  : [3118, 6667, 11203, 540, 11241, 1634, 5635, 0, 12520, 248, 222]\n",
            "IDs to Token : ['Un', 'bel', 'iev', 'able', 'Ġtoken', 'ization', 'Ġpowers', '!', 'ĠðŁ', 'ļ', 'Ģ']\n",
            "Decoded    : Unbelievable tokenization powers! 🚀\n"
          ]
        }
      ],
      "source": [
        "# 1. Load a pretrained BPE tokenizer (GPT-2 uses BPE).\n",
        "# Refer to  https://huggingface.co/docs/transformers/en/fast_tokenizers\n",
        "\n",
        "from transformers import AutoTokenizer\n",
        "\n",
        "# tokenizer\n",
        "tokenizer = AutoTokenizer.from_pretrained(\"gpt2\", use_fast=\"true\")\n",
        "\n",
        "# 2. Encode / decode\n",
        "def encode(text):\n",
        "    return tokenizer.encode(text)\n",
        "\n",
        "def decode(ids):\n",
        "    return tokenizer.decode(ids)\n",
        "\n",
        "def ids2token(ids):\n",
        "    return tokenizer.convert_ids_to_tokens(ids)\n",
        "\n",
        "# 3. Demo\n",
        "sample = \"Unbelievable tokenization powers! 🚀\"\n",
        "ids = encode(sample)\n",
        "recovered = decode(ids)\n",
        "ids2tokens = ids2token(ids)\n",
        "\n",
        "print(\"\\nInput text :\", sample)\n",
        "print(\"Token IDs  :\", ids)\n",
        "print(\"IDs to Token :\", ids2tokens)\n",
        "print(\"Decoded    :\", recovered)\n"
      ]
    },
    {
      "cell_type": "markdown",
      "id": "badaa5a8",
      "metadata": {
        "id": "badaa5a8"
      },
      "source": [
        "### 1.4 - TikToken\n",
        "\n",
        "`tiktoken` is a production-ready library which offers high‑speed tokenization used by OpenAI models.  \n",
        "Let's compare the older **gpt2** encoding with the newer **cl100k_base** used in GPT‑4."
      ]
    },
    {
      "cell_type": "code",
      "execution_count": 31,
      "id": "7704c470",
      "metadata": {
        "id": "7704c470",
        "outputId": "4d4f3a68-3abe-4bc4-a3fd-1833e8a04947",
        "colab": {
          "base_uri": "https://localhost:8080/"
        }
      },
      "outputs": [
        {
          "output_type": "stream",
          "name": "stdout",
          "text": [
            "Encoded ids [976, 130321, 253, 8253, 92135, 27207, 220, 1723, 5571, 0]\n",
            "Decoded tokens The 🌟 star-player scored 40 points!\n"
          ]
        }
      ],
      "source": [
        "# Use gpt2 and cl100k_base to encode and decode the following text\n",
        "# Refer to https://github.com/openai/tiktoken\n",
        "import tiktoken\n",
        "\n",
        "# tiktokenizer\n",
        "#tiktokenizer = tiktoken.get_encoding(\"o200k_base\")\n",
        "#tiktokenizer = tiktoken.get_encoding(\"cl100k_base\")\n",
        "\n",
        "# tokenizer corresponding to specific model\n",
        "tiktokenizer = tiktoken.encoding_for_model(\"gpt-4o\")\n",
        "\n",
        "\n",
        "sentence = \"The 🌟 star-player scored 40 points!\"\n",
        "ids = tiktokenizer.encode(sentence)\n",
        "print(\"Encoded ids\", ids)\n",
        "\n",
        "tokens = tiktokenizer.decode(ids)\n",
        "print(\"Decoded tokens\", tokens)"
      ]
    },
    {
      "cell_type": "markdown",
      "id": "5e8c1023",
      "metadata": {
        "id": "5e8c1023"
      },
      "source": [
        "Experiment: try new sentences, emojis, code snippets, or other languages. If you are interested, try implementing the BPE algorithm yourself.\n",
        "\n",
        "### 1.5 - Key Takeaways\n",
        "\n",
        "* **Word‑level**: simple but brittle (OOV problems).  \n",
        "* **Character‑level**: robust but produces long sequences.  \n",
        "* **BPE / Byte‑Level BPE**: middle ground used by most LLMs.  \n",
        "* **tiktoken**: shows how production models tokenize with pre‑trained sub‑word vocabularies."
      ]
    },
    {
      "cell_type": "markdown",
      "id": "c2a758ba",
      "metadata": {
        "id": "c2a758ba"
      },
      "source": [
        "# 2. What is a Language Model?\n",
        "\n",
        "At its core, a **language model (LM)** is just a *very large* mathematical function built from many neural-network layers.  \n",
        "Given a sequence of tokens `[t₁, t₂, …, tₙ]`, it learns to output a probability for the next token `tₙ₊₁`.\n",
        "\n",
        "\n",
        "Each layer applies a simple operation (matrix multiplication, attention, etc.). Stacking hundreds of these layers lets the model capture patterns and statistical relations from text. The final output is a vector of scores that says, “how likely is each possible token to come next?”\n",
        "\n",
        "> Think of the whole network as **one gigantic equation** whose parameters were tuned during training to minimize prediction error.\n"
      ]
    },
    {
      "cell_type": "markdown",
      "id": "8f0c7399",
      "metadata": {
        "id": "8f0c7399"
      },
      "source": [
        "\n",
        "### 2.1 - A Single `Linear` Layer\n",
        "\n",
        "Before we explore Transformer, let’s start tiny:\n",
        "\n",
        "* A **Linear layer** performs `y = Wx + b`  \n",
        "  * `x` – input vector  \n",
        "  * `W` – weight matrix (learned)  \n",
        "  * `b` – bias vector (learned)\n",
        "\n",
        "Although this looks basic, chaining thousands of such linear transforms (with nonlinearities in between) gives neural nets their expressive power.\n"
      ]
    },
    {
      "cell_type": "code",
      "execution_count": null,
      "id": "e425948a",
      "metadata": {
        "id": "e425948a"
      },
      "outputs": [],
      "source": [
        "import torch.nn as nn\n",
        "class Linear(nn.Module):\n",
        "    def __init__(self, in_features, out_features):\n",
        "        super(Linear, self).__init__()\n",
        "        \"\"\"\n",
        "        YOUR CODE HERE\n",
        "        \"\"\"\n",
        "\n",
        "    def forward(self, x):\n",
        "        \"\"\"\n",
        "        YOUR CODE HERE\n",
        "        \"\"\""
      ]
    },
    {
      "cell_type": "code",
      "execution_count": 32,
      "id": "13e5e225",
      "metadata": {
        "id": "13e5e225",
        "outputId": "fd9fcd75-be53-40eb-9def-28a89f06356a",
        "colab": {
          "base_uri": "https://localhost:8080/"
        }
      },
      "outputs": [
        {
          "output_type": "stream",
          "name": "stdout",
          "text": [
            "Input : tensor([ 1.0000, -1.0000,  0.5000])\n",
            "Weights: Parameter containing:\n",
            "tensor([[ 0.5362, -0.2396,  0.5230],\n",
            "        [-0.2970,  0.1148,  0.5697]], requires_grad=True)\n",
            "Bias   : Parameter containing:\n",
            "tensor([ 0.0543, -0.1495], requires_grad=True)\n",
            "Output : tensor([ 1.0916, -0.2765], grad_fn=<ViewBackward0>)\n"
          ]
        }
      ],
      "source": [
        "import torch.nn as nn, torch\n",
        "\n",
        "lin = nn.Linear(3, 2)\n",
        "x = torch.tensor([1.0, -1.0, 0.5])\n",
        "print(\"Input :\", x)\n",
        "print(\"Weights:\", lin.weight)\n",
        "print(\"Bias   :\", lin.bias)\n",
        "print(\"Output :\", lin(x))\n"
      ]
    },
    {
      "cell_type": "markdown",
      "id": "a04f56bf",
      "metadata": {
        "id": "a04f56bf"
      },
      "source": [
        "### 2.2 - A `Transformer` Layer\n",
        "\n",
        "Most LLMs are a **stack of identical Transformer blocks**. Each block fuses two main components:\n",
        "\n",
        "| Step | What it does | Where it lives in code |\n",
        "|------|--------------|------------------------|\n",
        "| **Multi-Head Self-Attention** | Every token looks at every other token and decides *what matters*. | `block.attn` |\n",
        "| **Feed-Forward Network (MLP)** | Re-mixes information token-by-token. | `block.mlp` |\n",
        "\n",
        "Below, we load the smallest public GPT-2 (124 M parameters), grab its *first* block, and inspect the pieces.\n"
      ]
    },
    {
      "cell_type": "code",
      "execution_count": 33,
      "id": "47c87f6e",
      "metadata": {
        "id": "47c87f6e",
        "outputId": "ac5115e6-8649-436c-f782-e4bcf69533d6",
        "colab": {
          "base_uri": "https://localhost:8080/"
        }
      },
      "outputs": [
        {
          "output_type": "stream",
          "name": "stdout",
          "text": [
            "\n",
            "Number of transformer layers: 12\n",
            "\n",
            "=== First transformer block ===\n",
            "GPT2Block(\n",
            "  (ln_1): LayerNorm((768,), eps=1e-05, elementwise_affine=True)\n",
            "  (attn): GPT2Attention(\n",
            "    (c_attn): Conv1D(nf=2304, nx=768)\n",
            "    (c_proj): Conv1D(nf=768, nx=768)\n",
            "    (attn_dropout): Dropout(p=0.1, inplace=False)\n",
            "    (resid_dropout): Dropout(p=0.1, inplace=False)\n",
            "  )\n",
            "  (ln_2): LayerNorm((768,), eps=1e-05, elementwise_affine=True)\n",
            "  (mlp): GPT2MLP(\n",
            "    (c_fc): Conv1D(nf=3072, nx=768)\n",
            "    (c_proj): Conv1D(nf=768, nx=3072)\n",
            "    (act): NewGELUActivation()\n",
            "    (dropout): Dropout(p=0.1, inplace=False)\n",
            "  )\n",
            ")\n"
          ]
        }
      ],
      "source": [
        "import torch\n",
        "from transformers import GPT2LMHeadModel\n",
        "\n",
        "# Load the 124 M-parameter GPT-2 and inspect its layers (12 layers)\n",
        "model_name = \"gpt2\"   # this is the 124M model\n",
        "gpt2 = GPT2LMHeadModel.from_pretrained(model_name)\n",
        "\n",
        "num_layers = len(gpt2.transformer.h)\n",
        "print(f\"\\nNumber of transformer layers: {num_layers}\")\n",
        "\n",
        "# Inspect first layer details\n",
        "print(\"\\n=== First transformer block ===\")\n",
        "print(gpt2.transformer.h[0])"
      ]
    },
    {
      "cell_type": "code",
      "execution_count": 34,
      "id": "92df06df",
      "metadata": {
        "id": "92df06df",
        "colab": {
          "base_uri": "https://localhost:8080/"
        },
        "outputId": "258af828-cf81-4605-aa3e-6fc04380a9e4"
      },
      "outputs": [
        {
          "output_type": "stream",
          "name": "stdout",
          "text": [
            "tensor([[48734, 18324, 35423, 24723, 15174,  5873, 15411, 12109]])\n",
            "Output shape after first block: torch.Size([1, 8, 768])\n"
          ]
        }
      ],
      "source": [
        "# Run a tiny forward pass through the first block\n",
        "seq_len = 8\n",
        "# This line creates a tensor of random integers, shaped like (1, seq_len).\n",
        "# 0 - Lower bound (inclusive)\n",
        "# gpt2.config.vocab_size - Upper bound (exclusive) — the number of tokens in GPT-2’s vocabulary (≈50,257 for GPT-2)\n",
        "# (1, seq_len) - The shape of the tensor → one “batch” with 8 token IDs\n",
        "dummy_tokens = torch.randint(0, gpt2.config.vocab_size, (1, seq_len))\n",
        "print(dummy_tokens)\n",
        "# Don’t track gradients for the operations inside this block.\n",
        "# Normally, PyTorch runs in autograd mode, meaning:\n",
        "#\t•\tEvery operation on tensors is recorded in a computation graph.\n",
        "#\t•\tThis graph is used later to compute gradients (via backpropagation) during training.\n",
        "# But in inference or evaluation, you don’t need gradients — you just want to run the model forward and get predictions.\n",
        "with torch.no_grad():\n",
        "    # Embed tokens (word embeddings)\n",
        "    # this is a core line of how GPT-2 converts discrete tokens (IDs) into continuous vectors before feeding them into the transformer\n",
        "    tok_emb = gpt2.transformer.wte(dummy_tokens)\n",
        "\n",
        "    # Embed positions (positional encodings)\n",
        "    # it gives the model a sense of token order (position).\n",
        "    pos_emb = gpt2.transformer.wpe(torch.arange(seq_len).unsqueeze(0))\n",
        "\n",
        "    # Combine token + positional embeddings\n",
        "    # If tok_emb tells GPT-2 what each word is,\n",
        "    # then pos_emb tells GPT-2 where each word is in the sentence.\n",
        "    hidden_states = tok_emb + pos_emb\n",
        "\n",
        "    # Forward through the first transformer block (Block 0)\n",
        "    result = gpt2.transformer.h[0](hidden_states)\n",
        "\n",
        "    # Optionally normalize (as GPT-2 does at the end of the stack)\n",
        "    # Handle both return types (tuple or tensor)\n",
        "    if isinstance(result, tuple):\n",
        "        hidden_states = result[0]\n",
        "    else:\n",
        "        hidden_states = result\n",
        "\n",
        "    print(\"Output shape after first block:\", hidden_states.shape)\n",
        "\n",
        "#print(\"\\nOutput shape :\", out.shape) # (batch, seq_len, hidden_size)"
      ]
    },
    {
      "cell_type": "markdown",
      "id": "8493ecc8",
      "metadata": {
        "id": "8493ecc8"
      },
      "source": [
        "### 2.3 - Inside GPT-2\n",
        "\n",
        "GPT-2 is just many of those modules arranged in a repeating *block*. Let's print the modules inside the Transformer."
      ]
    },
    {
      "cell_type": "code",
      "execution_count": 35,
      "id": "a78ddee1",
      "metadata": {
        "id": "a78ddee1",
        "outputId": "22750b9c-d92d-4013-aab7-da48728afc0c",
        "colab": {
          "base_uri": "https://localhost:8080/"
        }
      },
      "outputs": [
        {
          "output_type": "stream",
          "name": "stdout",
          "text": [
            "\n",
            "=== Top-level GPT-2 modules ===\n",
            "transformer: GPT2Model\n",
            "lm_head: Linear\n",
            "\n",
            "=== All modules (recursively) ===\n",
            " → GPT2LMHeadModel\n",
            "transformer → GPT2Model\n",
            "transformer.wte → Embedding\n",
            "transformer.wpe → Embedding\n",
            "transformer.drop → Dropout\n",
            "transformer.h → ModuleList\n",
            "transformer.h.0 → GPT2Block\n",
            "transformer.h.0.ln_1 → LayerNorm\n",
            "transformer.h.0.attn → GPT2Attention\n",
            "transformer.h.0.attn.c_attn → Conv1D\n",
            "transformer.h.0.attn.c_proj → Conv1D\n",
            "transformer.h.0.attn.attn_dropout → Dropout\n",
            "transformer.h.0.attn.resid_dropout → Dropout\n",
            "transformer.h.0.ln_2 → LayerNorm\n",
            "transformer.h.0.mlp → GPT2MLP\n",
            "transformer.h.0.mlp.c_fc → Conv1D\n",
            "transformer.h.0.mlp.c_proj → Conv1D\n",
            "transformer.h.0.mlp.act → NewGELUActivation\n",
            "transformer.h.0.mlp.dropout → Dropout\n",
            "transformer.h.1 → GPT2Block\n",
            "transformer.h.1.ln_1 → LayerNorm\n",
            "transformer.h.1.attn → GPT2Attention\n",
            "transformer.h.1.attn.c_attn → Conv1D\n",
            "transformer.h.1.attn.c_proj → Conv1D\n",
            "transformer.h.1.attn.attn_dropout → Dropout\n",
            "transformer.h.1.attn.resid_dropout → Dropout\n",
            "transformer.h.1.ln_2 → LayerNorm\n",
            "transformer.h.1.mlp → GPT2MLP\n",
            "transformer.h.1.mlp.c_fc → Conv1D\n",
            "transformer.h.1.mlp.c_proj → Conv1D\n",
            "transformer.h.1.mlp.act → NewGELUActivation\n",
            "transformer.h.1.mlp.dropout → Dropout\n",
            "transformer.h.2 → GPT2Block\n",
            "transformer.h.2.ln_1 → LayerNorm\n",
            "transformer.h.2.attn → GPT2Attention\n",
            "transformer.h.2.attn.c_attn → Conv1D\n",
            "transformer.h.2.attn.c_proj → Conv1D\n",
            "transformer.h.2.attn.attn_dropout → Dropout\n",
            "transformer.h.2.attn.resid_dropout → Dropout\n",
            "transformer.h.2.ln_2 → LayerNorm\n",
            "transformer.h.2.mlp → GPT2MLP\n",
            "transformer.h.2.mlp.c_fc → Conv1D\n",
            "transformer.h.2.mlp.c_proj → Conv1D\n",
            "transformer.h.2.mlp.act → NewGELUActivation\n",
            "transformer.h.2.mlp.dropout → Dropout\n",
            "transformer.h.3 → GPT2Block\n",
            "transformer.h.3.ln_1 → LayerNorm\n",
            "transformer.h.3.attn → GPT2Attention\n",
            "transformer.h.3.attn.c_attn → Conv1D\n",
            "transformer.h.3.attn.c_proj → Conv1D\n",
            "transformer.h.3.attn.attn_dropout → Dropout\n",
            "transformer.h.3.attn.resid_dropout → Dropout\n",
            "transformer.h.3.ln_2 → LayerNorm\n",
            "transformer.h.3.mlp → GPT2MLP\n",
            "transformer.h.3.mlp.c_fc → Conv1D\n",
            "transformer.h.3.mlp.c_proj → Conv1D\n",
            "transformer.h.3.mlp.act → NewGELUActivation\n",
            "transformer.h.3.mlp.dropout → Dropout\n",
            "transformer.h.4 → GPT2Block\n",
            "transformer.h.4.ln_1 → LayerNorm\n",
            "transformer.h.4.attn → GPT2Attention\n",
            "transformer.h.4.attn.c_attn → Conv1D\n",
            "transformer.h.4.attn.c_proj → Conv1D\n",
            "transformer.h.4.attn.attn_dropout → Dropout\n",
            "transformer.h.4.attn.resid_dropout → Dropout\n",
            "transformer.h.4.ln_2 → LayerNorm\n",
            "transformer.h.4.mlp → GPT2MLP\n",
            "transformer.h.4.mlp.c_fc → Conv1D\n",
            "transformer.h.4.mlp.c_proj → Conv1D\n",
            "transformer.h.4.mlp.act → NewGELUActivation\n",
            "transformer.h.4.mlp.dropout → Dropout\n",
            "transformer.h.5 → GPT2Block\n",
            "transformer.h.5.ln_1 → LayerNorm\n",
            "transformer.h.5.attn → GPT2Attention\n",
            "transformer.h.5.attn.c_attn → Conv1D\n",
            "transformer.h.5.attn.c_proj → Conv1D\n",
            "transformer.h.5.attn.attn_dropout → Dropout\n",
            "transformer.h.5.attn.resid_dropout → Dropout\n",
            "transformer.h.5.ln_2 → LayerNorm\n",
            "transformer.h.5.mlp → GPT2MLP\n",
            "transformer.h.5.mlp.c_fc → Conv1D\n",
            "transformer.h.5.mlp.c_proj → Conv1D\n",
            "transformer.h.5.mlp.act → NewGELUActivation\n",
            "transformer.h.5.mlp.dropout → Dropout\n",
            "transformer.h.6 → GPT2Block\n",
            "transformer.h.6.ln_1 → LayerNorm\n",
            "transformer.h.6.attn → GPT2Attention\n",
            "transformer.h.6.attn.c_attn → Conv1D\n",
            "transformer.h.6.attn.c_proj → Conv1D\n",
            "transformer.h.6.attn.attn_dropout → Dropout\n",
            "transformer.h.6.attn.resid_dropout → Dropout\n",
            "transformer.h.6.ln_2 → LayerNorm\n",
            "transformer.h.6.mlp → GPT2MLP\n",
            "transformer.h.6.mlp.c_fc → Conv1D\n",
            "transformer.h.6.mlp.c_proj → Conv1D\n",
            "transformer.h.6.mlp.act → NewGELUActivation\n",
            "transformer.h.6.mlp.dropout → Dropout\n",
            "transformer.h.7 → GPT2Block\n",
            "transformer.h.7.ln_1 → LayerNorm\n",
            "transformer.h.7.attn → GPT2Attention\n",
            "transformer.h.7.attn.c_attn → Conv1D\n",
            "transformer.h.7.attn.c_proj → Conv1D\n",
            "transformer.h.7.attn.attn_dropout → Dropout\n",
            "transformer.h.7.attn.resid_dropout → Dropout\n",
            "transformer.h.7.ln_2 → LayerNorm\n",
            "transformer.h.7.mlp → GPT2MLP\n",
            "transformer.h.7.mlp.c_fc → Conv1D\n",
            "transformer.h.7.mlp.c_proj → Conv1D\n",
            "transformer.h.7.mlp.act → NewGELUActivation\n",
            "transformer.h.7.mlp.dropout → Dropout\n",
            "transformer.h.8 → GPT2Block\n",
            "transformer.h.8.ln_1 → LayerNorm\n",
            "transformer.h.8.attn → GPT2Attention\n",
            "transformer.h.8.attn.c_attn → Conv1D\n",
            "transformer.h.8.attn.c_proj → Conv1D\n",
            "transformer.h.8.attn.attn_dropout → Dropout\n",
            "transformer.h.8.attn.resid_dropout → Dropout\n",
            "transformer.h.8.ln_2 → LayerNorm\n",
            "transformer.h.8.mlp → GPT2MLP\n",
            "transformer.h.8.mlp.c_fc → Conv1D\n",
            "transformer.h.8.mlp.c_proj → Conv1D\n",
            "transformer.h.8.mlp.act → NewGELUActivation\n",
            "transformer.h.8.mlp.dropout → Dropout\n",
            "transformer.h.9 → GPT2Block\n",
            "transformer.h.9.ln_1 → LayerNorm\n",
            "transformer.h.9.attn → GPT2Attention\n",
            "transformer.h.9.attn.c_attn → Conv1D\n",
            "transformer.h.9.attn.c_proj → Conv1D\n",
            "transformer.h.9.attn.attn_dropout → Dropout\n",
            "transformer.h.9.attn.resid_dropout → Dropout\n",
            "transformer.h.9.ln_2 → LayerNorm\n",
            "transformer.h.9.mlp → GPT2MLP\n",
            "transformer.h.9.mlp.c_fc → Conv1D\n",
            "transformer.h.9.mlp.c_proj → Conv1D\n",
            "transformer.h.9.mlp.act → NewGELUActivation\n",
            "transformer.h.9.mlp.dropout → Dropout\n",
            "transformer.h.10 → GPT2Block\n",
            "transformer.h.10.ln_1 → LayerNorm\n",
            "transformer.h.10.attn → GPT2Attention\n",
            "transformer.h.10.attn.c_attn → Conv1D\n",
            "transformer.h.10.attn.c_proj → Conv1D\n",
            "transformer.h.10.attn.attn_dropout → Dropout\n",
            "transformer.h.10.attn.resid_dropout → Dropout\n",
            "transformer.h.10.ln_2 → LayerNorm\n",
            "transformer.h.10.mlp → GPT2MLP\n",
            "transformer.h.10.mlp.c_fc → Conv1D\n",
            "transformer.h.10.mlp.c_proj → Conv1D\n",
            "transformer.h.10.mlp.act → NewGELUActivation\n",
            "transformer.h.10.mlp.dropout → Dropout\n",
            "transformer.h.11 → GPT2Block\n",
            "transformer.h.11.ln_1 → LayerNorm\n",
            "transformer.h.11.attn → GPT2Attention\n",
            "transformer.h.11.attn.c_attn → Conv1D\n",
            "transformer.h.11.attn.c_proj → Conv1D\n",
            "transformer.h.11.attn.attn_dropout → Dropout\n",
            "transformer.h.11.attn.resid_dropout → Dropout\n",
            "transformer.h.11.ln_2 → LayerNorm\n",
            "transformer.h.11.mlp → GPT2MLP\n",
            "transformer.h.11.mlp.c_fc → Conv1D\n",
            "transformer.h.11.mlp.c_proj → Conv1D\n",
            "transformer.h.11.mlp.act → NewGELUActivation\n",
            "transformer.h.11.mlp.dropout → Dropout\n",
            "transformer.ln_f → LayerNorm\n",
            "lm_head → Linear\n"
          ]
        }
      ],
      "source": [
        "# Print the name and modules inside gpt2\n",
        "# Print only top-level modules\n",
        "print(\"\\n=== Top-level GPT-2 modules ===\")\n",
        "for name, module in gpt2.named_children():\n",
        "    print(f\"{name}: {type(module).__name__}\")\n",
        "\n",
        "# Print all nested modules recursively\n",
        "print(\"\\n=== All modules (recursively) ===\")\n",
        "for name, module in gpt2.named_modules():\n",
        "    print(name, \"→\", module.__class__.__name__)"
      ]
    },
    {
      "cell_type": "markdown",
      "id": "ed029847",
      "metadata": {
        "id": "ed029847"
      },
      "source": [
        "As you can see, the Transformer holds various modules, arranged from a list of blocks (`h`). The following table summarizes these modules:\n",
        "\n",
        "| Step | What it does | Why it matters |\n",
        "|------|--------------|----------------|\n",
        "| **Token → Embedding** | Converts IDs to vectors | Gives the model a numeric “handle” on words |\n",
        "| **Positional Encoding** | Adds “where am I?” info | Order matters in language |\n",
        "| **Multi-Head Self-Attention** | Each token asks “which other tokens should I look at?” | Lets the model relate words across a sentence |\n",
        "| **Feed-Forward Network** | Two stacked Linear layers with a non-linearity | Mixes information and adds depth |\n",
        "| **LayerNorm & Residual** | Stabilize training and help gradients flow | Keeps very deep networks trainable |\n"
      ]
    },
    {
      "cell_type": "markdown",
      "id": "0a6a7495",
      "metadata": {
        "id": "0a6a7495"
      },
      "source": [
        "### 2.4 LLM's output\n",
        "\n",
        "Passing a token sequence through an **LLM** yields a tensor of **logits** with shape  \n",
        "`(batch_size, seq_len, vocab_size)`.  \n",
        "Applying `softmax` on the last dimension turns those logits into probabilities.\n",
        "\n",
        "The cell below feeds an 8-token dummy sequence, prints the logits shape, and shows the five most likely next tokens for the final position.\n"
      ]
    },
    {
      "cell_type": "code",
      "execution_count": 55,
      "id": "f98b7b34",
      "metadata": {
        "id": "f98b7b34",
        "outputId": "b62b9606-5444-4ac4-a74e-6094f9773f80",
        "colab": {
          "base_uri": "https://localhost:8080/",
          "height": 107
        }
      },
      "outputs": [
        {
          "output_type": "stream",
          "name": "stdout",
          "text": [
            "Logits shape : torch.Size([1, 3, 50257])\n",
            "Next token predicted: ' is'\n",
            "\n",
            "Top-5 predictions for the next token:\n"
          ]
        },
        {
          "output_type": "execute_result",
          "data": {
            "text/plain": [
              "'\\nYOUR CODE HERE\\n'"
            ],
            "application/vnd.google.colaboratory.intrinsic+json": {
              "type": "string"
            }
          },
          "metadata": {},
          "execution_count": 55
        }
      ],
      "source": [
        "import torch, torch.nn.functional as F\n",
        "from transformers import GPT2LMHeadModel, GPT2TokenizerFast\n",
        "\n",
        "model_name = \"gpt2\"   # this is the 124M model\n",
        "\n",
        "# Load gpt2 model and tokenizer\n",
        "gpt2 = GPT2LMHeadModel.from_pretrained(model_name)\n",
        "\n",
        "# Tokenize input text\n",
        "text = \"Hello my name\"\n",
        "tokenizer = GPT2TokenizerFast.from_pretrained(model_name)\n",
        "ids = tokenizer.encode(text, return_tensors=\"pt\")\n",
        "\n",
        "# Get logits by passing the ids to the gpt2 model.\n",
        "device = \"cuda\" if torch.cuda.is_available() else \"cpu\"\n",
        "gpt2 = gpt2.to(device)\n",
        "ids = ids.to(device)\n",
        "\n",
        "with torch.no_grad():\n",
        "  output = gpt2(ids)\n",
        "  logits = output.logits\n",
        "print(\"Logits shape :\", logits.shape)\n",
        "\n",
        "# Predict next token\n",
        "# Extract logits for the *last token* in the sequence\n",
        "last_token_logits = logits[0, -1, :]   # shape: (vocab_size,)\n",
        "\n",
        "# Get the ID of the token with the highest logit (most likely next token)\n",
        "predicted_token_id = torch.argmax(last_token_logits)\n",
        "\n",
        "# Decode it back to a readable word\n",
        "predicted_token = tokenizer.decode(predicted_token_id)\n",
        "\n",
        "print(f\"Next token predicted: '{predicted_token}'\")\n",
        "\n",
        "print(\"\\nTop-5 predictions for the next token:\")\n",
        "\"\"\"\n",
        "YOUR CODE HERE\n",
        "\"\"\"\n"
      ]
    },
    {
      "cell_type": "markdown",
      "id": "0eb05c9b",
      "metadata": {
        "id": "0eb05c9b"
      },
      "source": [
        "### 2.5 - Key Takeaway\n",
        "\n",
        "A language model is nothing mystical: it’s a *huge composition* of small, understandable layers trained to predict the next token in a sequence of tokens."
      ]
    },
    {
      "cell_type": "markdown",
      "id": "e0ccf391",
      "metadata": {
        "id": "e0ccf391"
      },
      "source": [
        "# 3 - Generation\n",
        "Once an LLM is trained to predict the probabilities, we can generate text from the model. This process is called decoding or sampling.\n",
        "\n",
        "At each step, the LLM outputs a **probability distribution** over the next token. It is the job of the decoding algorithm to pick the next token, and move on to the next token. There are different decoding algorithms and hyper-parameters to control the generaiton:\n",
        "* **Greedy** → pick the single highest‑probability token each step (safe but repetitive).  \n",
        "* **Top‑k / Nucleus (top‑p)** → sample from a subset of likely tokens (adds variety).\n",
        "* **beam** -> applies beam search to pick tokens\n",
        "* **Temperature** → a *creativity* knob. Higher values flatten the probability distribution."
      ]
    },
    {
      "cell_type": "markdown",
      "id": "ac0c5728",
      "metadata": {
        "id": "ac0c5728"
      },
      "source": [
        "### 3.1 - Greedy decoding"
      ]
    },
    {
      "cell_type": "code",
      "execution_count": null,
      "id": "2f2cb953",
      "metadata": {
        "id": "2f2cb953"
      },
      "outputs": [],
      "source": [
        "from transformers import AutoTokenizer, AutoModelForCausalLM\n",
        "MODELS = {\n",
        "    \"gpt2\": \"gpt2\",\n",
        "}\n",
        "tokenizers, models = {}, {}\n",
        "# Load models and tokenizers\n",
        "\"\"\"\n",
        "YOUR CODE HERE\n",
        "\"\"\"\n",
        "\n",
        "def generate(model_key, prompt, strategy=\"greedy\", max_new_tokens=100):\n",
        "    tok, mdl = tokenizers[model_key], models[model_key]\n",
        "    # Return the generations based on the provided strategy: greedy, top_k, top_p\n",
        "    \"\"\"\n",
        "    YOUR CODE HERE\n",
        "    \"\"\"\n"
      ]
    },
    {
      "cell_type": "code",
      "execution_count": null,
      "id": "dbe777ba",
      "metadata": {
        "id": "dbe777ba"
      },
      "outputs": [],
      "source": [
        "tests=[\"Once upon a time\",\"What is 2+2?\", \"Suggest a party theme.\"]\n",
        "for prompt in tests:\n",
        "    print(f\"\\n== GPT-2 | Greedy ==\")\n",
        "    print(generate(\"gpt2\", prompt, \"greedy\", 80))\n"
      ]
    },
    {
      "cell_type": "markdown",
      "id": "f51d44b2",
      "metadata": {
        "id": "f51d44b2"
      },
      "source": [
        "\n",
        "Naively picking the single best token every time has the following issues in practice:\n",
        "\n",
        "* **Loop**: “The cat is is is…”  \n",
        "* **Miss long-term payoff**: the highest-probability word *now* might paint you into a boring corner later."
      ]
    },
    {
      "cell_type": "markdown",
      "id": "91607661",
      "metadata": {
        "id": "91607661"
      },
      "source": [
        "### 3.2 - Top-k or top-p sampling"
      ]
    },
    {
      "cell_type": "code",
      "execution_count": null,
      "id": "0633d4a3",
      "metadata": {
        "id": "0633d4a3"
      },
      "outputs": [],
      "source": [
        "\n",
        "tests=[\"Once upon a time\",\"What is 2+2?\", \"Suggest a party theme.\"]\n",
        "for prompt in tests:\n",
        "    print(f\"\\n== GPT-2 | Top-p ==\")\n",
        "    print(generate(\"gpt2\", prompt, \"top-p\", 40))\n"
      ]
    },
    {
      "cell_type": "markdown",
      "id": "004b4039",
      "metadata": {
        "id": "004b4039"
      },
      "source": [
        "### 3.3 - Try It Yourself\n",
        "\n",
        "1. Scroll to the list called `tests`.\n",
        "2. Swap in your own prompts or tweak the decoding strategy.  \n",
        "3. Re‑run the cell and compare the vibes.\n",
        "\n",
        "> **Tip:** Try the same prompt with `greedy` vs. `top_p` (0.9) and see how the tone changes. Notice especially how small temperature tweaks can soften or sharpen the prose.\n",
        "\n",
        "* `strategy`: `\"greedy\"`, `\"beam\"`, `\"top_k\"`, `\"top_p\"`  \n",
        "* `temperature`: `0.2 – 2.0`  \n",
        "* `k` or `p` thresholds\n",
        "\n"
      ]
    },
    {
      "cell_type": "markdown",
      "id": "6b775b02",
      "metadata": {
        "id": "6b775b02"
      },
      "source": [
        "# 4 - Completion vs. Instruction-tuned LLMs\n",
        "\n",
        "We have seen that we can use GPT2 model to pass an input text and generate a new text. However, this model only continues the provided text. It is not engaging in a dialouge-like conversation and cannot be helpful by answering instructions. On the other hand, **instruction-tuned LLMs** like `Qwen-Chat` go through an extra training stage called **post-training** after the base “completion” model is finished. Because of post-training step, an instruction-tuned LLM will:\n",
        "\n",
        "* **Read the entire prompt as a request,** not just as text to mimic.  \n",
        "* **Stay in dialogue mode**. Answer questions, follow steps, ask clarifying queries.  \n",
        "* **Refuse or safe-complete** when instructions are unsafe or disallowed.  \n",
        "* **Adopt a consistent persona** (e.g., “Assistant”) rather than drifting into story continuation.\n"
      ]
    },
    {
      "cell_type": "markdown",
      "id": "1706dc08",
      "metadata": {
        "id": "1706dc08"
      },
      "source": [
        "### 4.1 - Qwen1.5-8B vs. GPT2\n",
        "\n",
        "In the code below we’ll feed the same prompt to:\n",
        "\n",
        "* **GPT-2 (completion-only)** – it will simply keep writing in the same style.  \n",
        "* **Qwen-Chat (instruction-tuned)** – it will obey the instruction and respond directly.\n",
        "\n",
        "Comparing the two outputs makes the difference easy to see."
      ]
    },
    {
      "cell_type": "code",
      "execution_count": null,
      "id": "57b73e7a",
      "metadata": {
        "id": "57b73e7a"
      },
      "outputs": [],
      "source": [
        "from transformers import AutoTokenizer, AutoModelForCausalLM\n",
        "MODELS = {\n",
        "    \"gpt2\": \"gpt2\",\n",
        "    \"qwen\": \"Qwen/Qwen1.5-1.8B-Chat\"\n",
        "}\n",
        "tokenizers, models = {}, {}\n",
        "# Load models and tokenizers\n",
        "\"\"\"\n",
        "YOUR CODE HERE\n",
        "\"\"\"\n"
      ]
    },
    {
      "cell_type": "markdown",
      "id": "ef49ab1b",
      "metadata": {
        "id": "ef49ab1b"
      },
      "source": [
        "\n",
        "We downloaded two tiny checkpoints: `GPT‑2` (124 M parameters) and `Qwen‑1.5‑Chat` (1.8 B). If the cell took a while, that was mostly network time. Models are stored locally after the first run.\n",
        "\n",
        "Let's now generate text and compare two models.\n"
      ]
    },
    {
      "cell_type": "code",
      "execution_count": null,
      "id": "0c78a508",
      "metadata": {
        "id": "0c78a508"
      },
      "outputs": [],
      "source": [
        "\n",
        "tests=[(\"Once upon a time\",\"greedy\"),(\"What is 2+2?\",\"top_k\"),(\"Suggest a party theme.\",\"top_p\")]\n",
        "for prompt,strategy in tests:\n",
        "    for key in [\"gpt2\",\"qwen\"]:\n",
        "        print(f\"\\n== {key.upper()} | {strategy} ==\")\n",
        "        print(generate(key,prompt,strategy,80))\n"
      ]
    },
    {
      "cell_type": "markdown",
      "id": "8e1c3da1",
      "metadata": {
        "id": "8e1c3da1"
      },
      "source": [
        "# 5. (Optional) A Small LLM Playground"
      ]
    },
    {
      "cell_type": "markdown",
      "id": "313ba974",
      "metadata": {
        "id": "313ba974"
      },
      "source": [
        "### 5.1 ‑ Interactive Playground\n",
        "\n",
        "Enter a prompt, pick a model and decoding strategy, adjust the temperature, and press **Generate** to watch the model respond.\n"
      ]
    },
    {
      "cell_type": "code",
      "execution_count": null,
      "id": "1a67a884",
      "metadata": {
        "id": "1a67a884"
      },
      "outputs": [],
      "source": [
        "import ipywidgets as widgets\n",
        "from IPython.display import display, Markdown\n",
        "\n",
        "# Make sure models and tokenizers are loaded\n",
        "try:\n",
        "    tokenizers\n",
        "    models\n",
        "except NameError:\n",
        "    raise RuntimeError(\"Please run the earlier setup cells that load the models before using the playground.\")\n",
        "\n",
        "def generate_playground(model_key, prompt, strategy=\"greedy\", temperature=1.0, max_new_tokens=100):\n",
        "    # Generation code\n",
        "    \"\"\"\n",
        "    YOUR CODE HERE\n",
        "    \"\"\"\n",
        "\n",
        "# Your code to build boxes, dropdowns, and other elements in the UI using widgets and creating the UI using widgets.vbox and display.\n",
        "# Refer to https://ipywidgets.readthedocs.io/en/stable/\n",
        "\"\"\"\n",
        "YOUR CODE HERE\n",
        "\"\"\"\n"
      ]
    },
    {
      "cell_type": "markdown",
      "id": "cfbccead",
      "metadata": {
        "id": "cfbccead"
      },
      "source": [
        "\n",
        "## 🎉 Congratulations!\n",
        "\n",
        "You’ve just learned, explored, and inspected a real **LLM**. In one project you:\n",
        "* Learned how **tokenization** works in practice\n",
        "* Used `tiktoken` library to load and experiment with most advanced tokenizers.\n",
        "* Explored LLM architecture and inspected GPT2 blocks and layers\n",
        "* Learned decoding strategies and used `top-p` to generate text from GPT2\n",
        "* Loaded a powerful chat model, `Qwen1.5-8B` and generated text\n",
        "* Built an LLM playground\n",
        "\n",
        "\n",
        "👏 **Great job!** Take a moment to celebrate. You now have a working mental model of how LLMs work. The skills you used here power most LLMs you see everywhere.\n"
      ]
    },
    {
      "cell_type": "markdown",
      "id": "30824bd6",
      "metadata": {
        "id": "30824bd6"
      },
      "source": []
    }
  ],
  "metadata": {
    "accelerator": "GPU",
    "colab": {
      "gpuType": "T4",
      "provenance": []
    },
    "kernelspec": {
      "display_name": "llm_playground",
      "language": "python",
      "name": "python3"
    },
    "language_info": {
      "codemirror_mode": {
        "name": "ipython",
        "version": 3
      },
      "file_extension": ".py",
      "mimetype": "text/x-python",
      "name": "python",
      "nbconvert_exporter": "python",
      "pygments_lexer": "ipython3",
      "version": "3.11.12"
    }
  },
  "nbformat": 4,
  "nbformat_minor": 5
}